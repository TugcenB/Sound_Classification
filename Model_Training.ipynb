{
  "nbformat": 4,
  "nbformat_minor": 0,
  "metadata": {
    "colab": {
      "provenance": [],
      "mount_file_id": "1z-mjLE69yeD1aLvOFWEFsxDZbF5qwakH",
      "authorship_tag": "ABX9TyM/9N9pstr9WZM0arIgfrgH",
      "include_colab_link": true
    },
    "kernelspec": {
      "name": "python3",
      "display_name": "Python 3"
    },
    "language_info": {
      "name": "python"
    }
  },
  "cells": [
    {
      "cell_type": "markdown",
      "metadata": {
        "id": "view-in-github",
        "colab_type": "text"
      },
      "source": [
        "<a href=\"https://colab.research.google.com/github/TugcenB/Sound_Classification/blob/main/Model_Training.ipynb\" target=\"_parent\"><img src=\"https://colab.research.google.com/assets/colab-badge.svg\" alt=\"Open In Colab\"/></a>"
      ]
    },
    {
      "cell_type": "markdown",
      "source": [
        "#Building Convolutional Neural Network"
      ],
      "metadata": {
        "id": "OTCG87wYilPn"
      }
    },
    {
      "cell_type": "markdown",
      "source": [
        "##Import Required Libraries"
      ],
      "metadata": {
        "id": "PI1QK1E8jMWG"
      }
    },
    {
      "cell_type": "code",
      "source": [
        "import tensorflow as tf\n",
        "import numpy as np\n",
        "import pandas as pd\n",
        "import matplotlib.pyplot as plt\n",
        "import cv2"
      ],
      "metadata": {
        "id": "KS5L60wkjD2k"
      },
      "execution_count": 2,
      "outputs": []
    },
    {
      "cell_type": "markdown",
      "source": [
        "##Prepare The Dataset"
      ],
      "metadata": {
        "id": "wyonmuJljeV0"
      }
    },
    {
      "cell_type": "markdown",
      "source": [
        "We already prepared X_train, y_train, X_val, y_val, X_test ve y_test dataset in Preprocessing "
      ],
      "metadata": {
        "id": "xtmkgbyqkI31"
      }
    },
    {
      "cell_type": "code",
      "source": [
        "X_train = np.load('/content/drive/MyDrive/X_train_cv.npy')\n",
        "X_test = np.load('/content/drive/MyDrive/X_test_cv.npy')\n",
        "X_val = np.load('/content/drive/MyDrive/X_val_cv.npy')\n",
        "\n",
        "y_train = pd.read_csv('/content/drive/MyDrive/y_train.csv')\n",
        "y_test = pd.read_csv('/content/drive/MyDrive/y_test.csv')\n",
        "y_val = pd.read_csv('/content/drive/MyDrive/y_val.csv')"
      ],
      "metadata": {
        "id": "tc6a5sHRjlWQ"
      },
      "execution_count": 3,
      "outputs": []
    },
    {
      "cell_type": "code",
      "source": [
        "X_train = np.array(X_train)\n",
        "y_train = np.array(y_train['1'])\n",
        "\n",
        "X_val = np.array(X_val)\n",
        "y_val = np.array(y_val['1'])\n",
        "\n",
        "X_test = np.array(X_test)\n",
        "y_test = np.array(y_test['1'])\n"
      ],
      "metadata": {
        "id": "2FoRXZJcfJhy"
      },
      "execution_count": 4,
      "outputs": []
    },
    {
      "cell_type": "code",
      "source": [
        "print(len(X_train))\n",
        "print(len(y_train))\n",
        "print(len(X_val))\n",
        "print(len(y_val))\n",
        "print(len(X_test))\n",
        "print(len(y_test))"
      ],
      "metadata": {
        "colab": {
          "base_uri": "https://localhost:8080/"
        },
        "id": "cBuVXd5hUXax",
        "outputId": "16612c5f-a035-4cef-919f-84ac630f0cc3"
      },
      "execution_count": 5,
      "outputs": [
        {
          "output_type": "stream",
          "name": "stdout",
          "text": [
            "5238\n",
            "5238\n",
            "1747\n",
            "1747\n",
            "1747\n",
            "1747\n"
          ]
        }
      ]
    },
    {
      "cell_type": "code",
      "source": [
        "X_train = X_train.reshape(-1, 32, 32, 3) \n",
        "X_val = X_val.reshape(-1, 32, 32, 3) \n",
        "X_test = X_test.reshape(-1, 32, 32, 3) "
      ],
      "metadata": {
        "id": "Zv-BciFyUg_V"
      },
      "execution_count": 6,
      "outputs": []
    },
    {
      "cell_type": "markdown",
      "source": [
        "##Constructing Neural Network"
      ],
      "metadata": {
        "id": "wMWiqZiWl-k9"
      }
    },
    {
      "cell_type": "code",
      "source": [
        "X_train = X_train/255\n",
        "X_val = X_val/255\n",
        "X_test = X_test/255"
      ],
      "metadata": {
        "id": "JDJJfIUeZFn7"
      },
      "execution_count": 7,
      "outputs": []
    },
    {
      "cell_type": "code",
      "source": [
        "model = tf.keras.Sequential()\n",
        "\n",
        "model.add(tf.keras.layers.Conv2D(64,\n",
        "                                 kernel_size=(3,3),\n",
        "                                 strides=(1,1),\n",
        "                                 padding=\"same\",\n",
        "                                 activation=\"relu\",\n",
        "                                 input_shape=(32,32,3)))\n",
        "model.add(tf.keras.layers.MaxPooling2D((2,2)))\n",
        "\n",
        "model.add(tf.keras.layers.Conv2D(64,\n",
        "                                 kernel_size=(3,3),\n",
        "                                 strides=(1,1),\n",
        "                                 padding=\"same\",\n",
        "                                 activation=\"relu\",\n",
        "                                 ))\n",
        "model.add(tf.keras.layers.MaxPooling2D((2,2)))\n",
        "model.add(tf.keras.layers.Conv2D(64,\n",
        "                                 kernel_size=(3,3),\n",
        "                                 strides=(2,2),\n",
        "                                 padding=\"same\",\n",
        "                                 activation=\"relu\",\n",
        "                                 ))\n",
        "model.add(tf.keras.layers.Flatten())\n",
        "\n",
        "\n",
        "model.add(tf.keras.layers.Dense(64,activation=\"relu\"))\n",
        "model.add(tf.keras.layers.Dropout(0.5))\n",
        "\n",
        "model.add(tf.keras.layers.Dense(64,activation=\"relu\"))\n",
        "model.add(tf.keras.layers.Dropout(0.5))\n",
        "\n",
        "model.add(tf.keras.layers.Dense(10,activation=\"softmax\"))\n"
      ],
      "metadata": {
        "id": "TKt5BBhNmCNx"
      },
      "execution_count": 15,
      "outputs": []
    },
    {
      "cell_type": "code",
      "source": [
        "model.compile(optimizer=\"adam\",\n",
        "              loss = 'sparse_categorical_crossentropy',\n",
        "              metrics=[\"accuracy\"])"
      ],
      "metadata": {
        "id": "7Sjq8FQ-bUhn"
      },
      "execution_count": 16,
      "outputs": []
    },
    {
      "cell_type": "code",
      "source": [
        "results = model.fit(X_train, y_train,\n",
        "                    batch_size=32,\n",
        "                    epochs=25,\n",
        "                    validation_data=(X_val, y_val)\n",
        "                    )"
      ],
      "metadata": {
        "id": "so-8pl4qWV52",
        "colab": {
          "base_uri": "https://localhost:8080/"
        },
        "outputId": "c5cbd3b3-3482-4708-ed8d-a9425c6b7c79"
      },
      "execution_count": 17,
      "outputs": [
        {
          "output_type": "stream",
          "name": "stdout",
          "text": [
            "Epoch 1/25\n",
            "164/164 [==============================] - 17s 100ms/step - loss: 2.2044 - accuracy: 0.1659 - val_loss: 1.9576 - val_accuracy: 0.2370\n",
            "Epoch 2/25\n",
            "164/164 [==============================] - 18s 107ms/step - loss: 1.9218 - accuracy: 0.2797 - val_loss: 1.6402 - val_accuracy: 0.3801\n",
            "Epoch 3/25\n",
            "164/164 [==============================] - 16s 95ms/step - loss: 1.6737 - accuracy: 0.3977 - val_loss: 1.3853 - val_accuracy: 0.5117\n",
            "Epoch 4/25\n",
            "164/164 [==============================] - 16s 97ms/step - loss: 1.4979 - accuracy: 0.4624 - val_loss: 1.2422 - val_accuracy: 0.5655\n",
            "Epoch 5/25\n",
            "164/164 [==============================] - 16s 96ms/step - loss: 1.3401 - accuracy: 0.5284 - val_loss: 1.1365 - val_accuracy: 0.6165\n",
            "Epoch 6/25\n",
            "164/164 [==============================] - 18s 109ms/step - loss: 1.2405 - accuracy: 0.5617 - val_loss: 1.0423 - val_accuracy: 0.6445\n",
            "Epoch 7/25\n",
            "164/164 [==============================] - 16s 96ms/step - loss: 1.1584 - accuracy: 0.5903 - val_loss: 0.9783 - val_accuracy: 0.6743\n",
            "Epoch 8/25\n",
            "164/164 [==============================] - 16s 95ms/step - loss: 1.0740 - accuracy: 0.6191 - val_loss: 0.8832 - val_accuracy: 0.7086\n",
            "Epoch 9/25\n",
            "164/164 [==============================] - 16s 97ms/step - loss: 1.0359 - accuracy: 0.6474 - val_loss: 0.8652 - val_accuracy: 0.7275\n",
            "Epoch 10/25\n",
            "164/164 [==============================] - 16s 98ms/step - loss: 0.9541 - accuracy: 0.6720 - val_loss: 0.7880 - val_accuracy: 0.7459\n",
            "Epoch 11/25\n",
            "164/164 [==============================] - 16s 96ms/step - loss: 0.9004 - accuracy: 0.6963 - val_loss: 0.7596 - val_accuracy: 0.7562\n",
            "Epoch 12/25\n",
            "164/164 [==============================] - 16s 95ms/step - loss: 0.8161 - accuracy: 0.7247 - val_loss: 0.7156 - val_accuracy: 0.7733\n",
            "Epoch 13/25\n",
            "164/164 [==============================] - 16s 95ms/step - loss: 0.7963 - accuracy: 0.7341 - val_loss: 0.7771 - val_accuracy: 0.7687\n",
            "Epoch 14/25\n",
            "164/164 [==============================] - 16s 99ms/step - loss: 0.7621 - accuracy: 0.7495 - val_loss: 0.6849 - val_accuracy: 0.7911\n",
            "Epoch 15/25\n",
            "164/164 [==============================] - 16s 100ms/step - loss: 0.7012 - accuracy: 0.7690 - val_loss: 0.6600 - val_accuracy: 0.7859\n",
            "Epoch 16/25\n",
            "164/164 [==============================] - 16s 96ms/step - loss: 0.6508 - accuracy: 0.7833 - val_loss: 0.6400 - val_accuracy: 0.7997\n",
            "Epoch 17/25\n",
            "164/164 [==============================] - 16s 97ms/step - loss: 0.6213 - accuracy: 0.7919 - val_loss: 0.5920 - val_accuracy: 0.8122\n",
            "Epoch 18/25\n",
            "164/164 [==============================] - 18s 107ms/step - loss: 0.5880 - accuracy: 0.8087 - val_loss: 0.6446 - val_accuracy: 0.8048\n",
            "Epoch 19/25\n",
            "164/164 [==============================] - 15s 94ms/step - loss: 0.5691 - accuracy: 0.8123 - val_loss: 0.7430 - val_accuracy: 0.8002\n",
            "Epoch 20/25\n",
            "164/164 [==============================] - 16s 96ms/step - loss: 0.5195 - accuracy: 0.8288 - val_loss: 0.5505 - val_accuracy: 0.8306\n",
            "Epoch 21/25\n",
            "164/164 [==============================] - 16s 96ms/step - loss: 0.5461 - accuracy: 0.8257 - val_loss: 0.6647 - val_accuracy: 0.8231\n",
            "Epoch 22/25\n",
            "164/164 [==============================] - 16s 95ms/step - loss: 0.4754 - accuracy: 0.8400 - val_loss: 0.5416 - val_accuracy: 0.8351\n",
            "Epoch 23/25\n",
            "164/164 [==============================] - 17s 107ms/step - loss: 0.4681 - accuracy: 0.8446 - val_loss: 0.5617 - val_accuracy: 0.8397\n",
            "Epoch 24/25\n",
            "164/164 [==============================] - 16s 98ms/step - loss: 0.4840 - accuracy: 0.8456 - val_loss: 0.4986 - val_accuracy: 0.8552\n",
            "Epoch 25/25\n",
            "164/164 [==============================] - 16s 97ms/step - loss: 0.4444 - accuracy: 0.8505 - val_loss: 0.5554 - val_accuracy: 0.8443\n"
          ]
        }
      ]
    },
    {
      "cell_type": "code",
      "source": [
        "\n",
        "plt.plot(results.history[\"loss\"], label=\"loss\")\n",
        "\n",
        "plt.plot(results.history[\"val_loss\"], label=\"val_loss\")\n",
        "\n",
        "plt.xlabel(\"Epoch\")\n",
        "plt.ylabel(\"Loss\")\n",
        "\n",
        "plt.legend()\n",
        "\n",
        "plt.show()"
      ],
      "metadata": {
        "id": "zqfwvVYMWWuB",
        "colab": {
          "base_uri": "https://localhost:8080/",
          "height": 279
        },
        "outputId": "97fc6200-ba5f-4391-ea59-e99d65b98526"
      },
      "execution_count": 18,
      "outputs": [
        {
          "output_type": "display_data",
          "data": {
            "text/plain": [
              "<Figure size 432x288 with 1 Axes>"
            ],
            "image/png": "[encoded data removed]"
          },
          "metadata": {
            "needs_background": "light"
          }
        }
      ]
    },
    {
      "cell_type": "code",
      "source": [
        "plt.plot(results.history[\"accuracy\"], label=\"accuracy\")\n",
        "\n",
        "plt.plot(results.history[\"val_accuracy\"], label=\"val_accuracy\")\n",
        "\n",
        "plt.xlabel(\"Epoch\")\n",
        "plt.ylabel(\"Loss\")\n",
        "\n",
        "plt.legend()\n",
        "\n",
        "plt.show()"
      ],
      "metadata": {
        "colab": {
          "base_uri": "https://localhost:8080/",
          "height": 279
        },
        "id": "3AZ4pISpZYEo",
        "outputId": "1a55db99-9919-41f0-d5b9-3eecab0ba0a3"
      },
      "execution_count": 19,
      "outputs": [
        {
          "output_type": "display_data",
          "data": {
            "text/plain": [
              "<Figure size 432x288 with 1 Axes>"
            ],
            "image/png": "[encoded data removed]"
          },
          "metadata": {
            "needs_background": "light"
          }
        }
      ]
    },
    {
      "cell_type": "code",
      "source": [
        "result = model.evaluate(X_test, y_test)\n",
        "print(f\"Loss: {result[0]} - Accuracy: {result[1]}\")"
      ],
      "metadata": {
        "colab": {
          "base_uri": "https://localhost:8080/"
        },
        "id": "TgG6kT1tZ1vq",
        "outputId": "b63e88de-f0c3-4583-b638-a6c85cb67a25"
      },
      "execution_count": 20,
      "outputs": [
        {
          "output_type": "stream",
          "name": "stdout",
          "text": [
            "55/55 [==============================] - 1s 23ms/step - loss: 0.5606 - accuracy: 0.8506\n",
            "Loss: 0.5605936646461487 - Accuracy: 0.8506010174751282\n"
          ]
        }
      ]
    },
    {
      "cell_type": "code",
      "source": [
        "prediction_result = model.predict(X_test[789].reshape(1,32,32,3))\n",
        "predicted_class= prediction_result.argmax()\n",
        "predicted_probability = prediction_result.max()\n",
        "print(f\"This image belongs to class {predicted_class} with {predicted_probability} probability %\")"
      ],
      "metadata": {
        "colab": {
          "base_uri": "https://localhost:8080/"
        },
        "id": "CP4Ql8YNa6Bz",
        "outputId": "06baf4ef-6c95-42f1-abf2-cbf5b2539cf6"
      },
      "execution_count": 21,
      "outputs": [
        {
          "output_type": "stream",
          "name": "stdout",
          "text": [
            "This image belongs to class 6 with 0.997729480266571 probability %\n"
          ]
        }
      ]
    }
  ]
}