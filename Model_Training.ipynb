{
  "nbformat": 4,
  "nbformat_minor": 0,
  "metadata": {
    "colab": {
      "provenance": [],
      "mount_file_id": "1z-mjLE69yeD1aLvOFWEFsxDZbF5qwakH",
      "authorship_tag": "ABX9TyNR+mfPaj7H/EbXp3E43be6",
      "include_colab_link": true
    },
    "kernelspec": {
      "name": "python3",
      "display_name": "Python 3"
    },
    "language_info": {
      "name": "python"
    }
  },
  "cells": [
    {
      "cell_type": "markdown",
      "metadata": {
        "id": "view-in-github",
        "colab_type": "text"
      },
      "source": [
        "<a href=\"https://colab.research.google.com/github/TugcenB/Sound_Classification/blob/main/Model_Training.ipynb\" target=\"_parent\"><img src=\"https://colab.research.google.com/assets/colab-badge.svg\" alt=\"Open In Colab\"/></a>"
      ]
    },
    {
      "cell_type": "markdown",
      "source": [
        "#Building Convolutional Neural Network"
      ],
      "metadata": {
        "id": "OTCG87wYilPn"
      }
    },
    {
      "cell_type": "markdown",
      "source": [
        "##Import Required Libraries"
      ],
      "metadata": {
        "id": "PI1QK1E8jMWG"
      }
    },
    {
      "cell_type": "code",
      "source": [
        "import tensorflow as tf\n",
        "import numpy as np\n",
        "import pandas as pd\n",
        "import matplotlib.pyplot as plt\n",
        "import cv2"
      ],
      "metadata": {
        "id": "KS5L60wkjD2k"
      },
      "execution_count": 2,
      "outputs": []
    },
    {
      "cell_type": "markdown",
      "source": [
        "##Prepare The Dataset"
      ],
      "metadata": {
        "id": "wyonmuJljeV0"
      }
    },
    {
      "cell_type": "markdown",
      "source": [
        "We already prepared X_train, y_train, X_val, y_val, X_test ve y_test dataset in Preprocessing "
      ],
      "metadata": {
        "id": "xtmkgbyqkI31"
      }
    },
    {
      "cell_type": "code",
      "source": [
        "X_train = np.load('/content/drive/MyDrive/X_train_cv.npy')\n",
        "X_test = np.load('/content/drive/MyDrive/X_test_cv.npy')\n",
        "X_val = np.load('/content/drive/MyDrive/X_val_cv.npy')\n",
        "\n",
        "y_train = pd.read_csv('/content/drive/MyDrive/y_train.csv')\n",
        "y_test = pd.read_csv('/content/drive/MyDrive/y_test.csv')\n",
        "y_val = pd.read_csv('/content/drive/MyDrive/y_val.csv')"
      ],
      "metadata": {
        "id": "tc6a5sHRjlWQ"
      },
      "execution_count": 3,
      "outputs": []
    },
    {
      "cell_type": "code",
      "source": [
        "X_train = np.array(X_train)\n",
        "y_train = np.array(y_train['1'])\n",
        "\n",
        "X_val = np.array(X_val)\n",
        "y_val = np.array(y_val['1'])\n",
        "\n",
        "X_test = np.array(X_test)\n",
        "y_test = np.array(y_test['1'])\n"
      ],
      "metadata": {
        "id": "2FoRXZJcfJhy"
      },
      "execution_count": 4,
      "outputs": []
    },
    {
      "cell_type": "code",
      "source": [
        "print(len(X_train))\n",
        "print(len(y_train))\n",
        "print(len(X_val))\n",
        "print(len(y_val))\n",
        "print(len(X_test))\n",
        "print(len(y_test))"
      ],
      "metadata": {
        "colab": {
          "base_uri": "https://localhost:8080/"
        },
        "id": "cBuVXd5hUXax",
        "outputId": "16612c5f-a035-4cef-919f-84ac630f0cc3"
      },
      "execution_count": 5,
      "outputs": [
        {
          "output_type": "stream",
          "name": "stdout",
          "text": [
            "5238\n",
            "5238\n",
            "1747\n",
            "1747\n",
            "1747\n",
            "1747\n"
          ]
        }
      ]
    },
    {
      "cell_type": "code",
      "source": [
        "X_train = X_train.reshape(-1, 32, 32, 3) \n",
        "X_val = X_val.reshape(-1, 32, 32, 3) \n",
        "X_test = X_test.reshape(-1, 32, 32, 3) "
      ],
      "metadata": {
        "id": "Zv-BciFyUg_V"
      },
      "execution_count": 6,
      "outputs": []
    },
    {
      "cell_type": "markdown",
      "source": [
        "##Constructing Neural Network"
      ],
      "metadata": {
        "id": "wMWiqZiWl-k9"
      }
    },
    {
      "cell_type": "code",
      "source": [
        "X_train = X_train/255\n",
        "X_val = X_val/255\n",
        "X_test = X_test/255"
      ],
      "metadata": {
        "id": "JDJJfIUeZFn7"
      },
      "execution_count": 7,
      "outputs": []
    },
    {
      "cell_type": "code",
      "source": [
        "model = tf.keras.Sequential()\n",
        "\n",
        "model.add(tf.keras.layers.Conv2D(64,\n",
        "                                 kernel_size=(3,3),\n",
        "                                 strides=(1,1),\n",
        "                                 padding=\"same\",\n",
        "                                 activation=\"relu\",\n",
        "                                 input_shape=(32,32,3)))\n",
        "model.add(tf.keras.layers.MaxPooling2D((2,2)))\n",
        "\n",
        "model.add(tf.keras.layers.Conv2D(64,\n",
        "                                 kernel_size=(3,3),\n",
        "                                 strides=(1,1),\n",
        "                                 padding=\"same\",\n",
        "                                 activation=\"relu\",\n",
        "                                 ))\n",
        "model.add(tf.keras.layers.MaxPooling2D((2,2)))\n",
        "model.add(tf.keras.layers.Conv2D(64,\n",
        "                                 kernel_size=(3,3),\n",
        "                                 strides=(2,2),\n",
        "                                 padding=\"same\",\n",
        "                                 activation=\"relu\",\n",
        "                                 ))\n",
        "model.add(tf.keras.layers.Flatten())\n",
        "\n",
        "\n",
        "model.add(tf.keras.layers.Dense(64,activation=\"relu\"))\n",
        "model.add(tf.keras.layers.Dropout(0.5))\n",
        "\n",
        "model.add(tf.keras.layers.Dense(64,activation=\"relu\"))\n",
        "model.add(tf.keras.layers.Dropout(0.5))\n",
        "\n",
        "model.add(tf.keras.layers.Dense(10,activation=\"softmax\"))\n"
      ],
      "metadata": {
        "id": "TKt5BBhNmCNx"
      },
      "execution_count": 8,
      "outputs": []
    },
    {
      "cell_type": "code",
      "source": [
        "model.compile(optimizer=\"adam\",\n",
        "              loss = 'sparse_categorical_crossentropy',\n",
        "              metrics=[\"accuracy\"])"
      ],
      "metadata": {
        "id": "7Sjq8FQ-bUhn"
      },
      "execution_count": 9,
      "outputs": []
    },
    {
      "cell_type": "code",
      "source": [
        "results = model.fit(X_train, y_train,\n",
        "                    batch_size=32,\n",
        "                    epochs=20,\n",
        "                    validation_data=(X_val, y_val)\n",
        "                    )"
      ],
      "metadata": {
        "id": "so-8pl4qWV52",
        "colab": {
          "base_uri": "https://localhost:8080/"
        },
        "outputId": "3b879e21-7e82-4084-fcf0-85976918e3dc"
      },
      "execution_count": 10,
      "outputs": [
        {
          "output_type": "stream",
          "name": "stdout",
          "text": [
            "Epoch 1/20\n",
            "164/164 [==============================] - 22s 127ms/step - loss: 2.2348 - accuracy: 0.1476 - val_loss: 1.9582 - val_accuracy: 0.2959\n",
            "Epoch 2/20\n",
            "164/164 [==============================] - 16s 98ms/step - loss: 1.8887 - accuracy: 0.3169 - val_loss: 1.7525 - val_accuracy: 0.4156\n",
            "Epoch 3/20\n",
            "164/164 [==============================] - 18s 109ms/step - loss: 1.7099 - accuracy: 0.3793 - val_loss: 1.4619 - val_accuracy: 0.4665\n",
            "Epoch 4/20\n",
            "164/164 [==============================] - 16s 100ms/step - loss: 1.5618 - accuracy: 0.4416 - val_loss: 1.3182 - val_accuracy: 0.5455\n",
            "Epoch 5/20\n",
            "164/164 [==============================] - 16s 97ms/step - loss: 1.4302 - accuracy: 0.5059 - val_loss: 1.2138 - val_accuracy: 0.6045\n",
            "Epoch 6/20\n",
            "164/164 [==============================] - 16s 100ms/step - loss: 1.3573 - accuracy: 0.5202 - val_loss: 1.1096 - val_accuracy: 0.6463\n",
            "Epoch 7/20\n",
            "164/164 [==============================] - 16s 97ms/step - loss: 1.2600 - accuracy: 0.5628 - val_loss: 1.0273 - val_accuracy: 0.6543\n",
            "Epoch 8/20\n",
            "164/164 [==============================] - 16s 97ms/step - loss: 1.2010 - accuracy: 0.5815 - val_loss: 0.9646 - val_accuracy: 0.6514\n",
            "Epoch 9/20\n",
            "164/164 [==============================] - 16s 96ms/step - loss: 1.1064 - accuracy: 0.6142 - val_loss: 0.8920 - val_accuracy: 0.6983\n",
            "Epoch 10/20\n",
            "164/164 [==============================] - 16s 95ms/step - loss: 1.0602 - accuracy: 0.6262 - val_loss: 0.8603 - val_accuracy: 0.7149\n",
            "Epoch 11/20\n",
            "164/164 [==============================] - 17s 106ms/step - loss: 1.0163 - accuracy: 0.6443 - val_loss: 0.8715 - val_accuracy: 0.7189\n",
            "Epoch 12/20\n",
            "164/164 [==============================] - 16s 98ms/step - loss: 0.9680 - accuracy: 0.6686 - val_loss: 0.8272 - val_accuracy: 0.7287\n",
            "Epoch 13/20\n",
            "164/164 [==============================] - 16s 96ms/step - loss: 0.8850 - accuracy: 0.6922 - val_loss: 0.7501 - val_accuracy: 0.7636\n",
            "Epoch 14/20\n",
            "164/164 [==============================] - 16s 97ms/step - loss: 0.8772 - accuracy: 0.7022 - val_loss: 0.7376 - val_accuracy: 0.7647\n",
            "Epoch 15/20\n",
            "164/164 [==============================] - 16s 99ms/step - loss: 0.8223 - accuracy: 0.7215 - val_loss: 0.7913 - val_accuracy: 0.7470\n",
            "Epoch 16/20\n",
            "164/164 [==============================] - 16s 96ms/step - loss: 0.7937 - accuracy: 0.7339 - val_loss: 0.6593 - val_accuracy: 0.8014\n",
            "Epoch 17/20\n",
            "164/164 [==============================] - 15s 94ms/step - loss: 0.7623 - accuracy: 0.7488 - val_loss: 0.6231 - val_accuracy: 0.8014\n",
            "Epoch 18/20\n",
            "164/164 [==============================] - 16s 99ms/step - loss: 0.7573 - accuracy: 0.7537 - val_loss: 0.6145 - val_accuracy: 0.8163\n",
            "Epoch 19/20\n",
            "164/164 [==============================] - 16s 98ms/step - loss: 0.6723 - accuracy: 0.7759 - val_loss: 0.6506 - val_accuracy: 0.8082\n",
            "Epoch 20/20\n",
            "164/164 [==============================] - 18s 108ms/step - loss: 0.6493 - accuracy: 0.7894 - val_loss: 0.5991 - val_accuracy: 0.8174\n"
          ]
        }
      ]
    },
    {
      "cell_type": "code",
      "source": [
        "\n",
        "plt.plot(results.history[\"loss\"], label=\"loss\")\n",
        "\n",
        "plt.plot(results.history[\"val_loss\"], label=\"val_loss\")\n",
        "\n",
        "plt.xlabel(\"Epoch\")\n",
        "plt.ylabel(\"Loss\")\n",
        "\n",
        "plt.legend()\n",
        "\n",
        "plt.show()"
      ],
      "metadata": {
        "id": "zqfwvVYMWWuB",
        "colab": {
          "base_uri": "https://localhost:8080/",
          "height": 279
        },
        "outputId": "d21a42c8-6aa6-4a2c-d066-f362dc1271fd"
      },
      "execution_count": 11,
      "outputs": [
        {
          "output_type": "display_data",
          "data": {
            "text/plain": [
              "<Figure size 432x288 with 1 Axes>"
            ],
            "image/png": "[encoded data removed]"
          },
          "metadata": {
            "needs_background": "light"
          }
        }
      ]
    },
    {
      "cell_type": "code",
      "source": [
        "plt.plot(results.history[\"accuracy\"], label=\"accuracy\")\n",
        "\n",
        "plt.plot(results.history[\"val_accuracy\"], label=\"val_accuracy\")\n",
        "\n",
        "plt.xlabel(\"Epoch\")\n",
        "plt.ylabel(\"Loss\")\n",
        "\n",
        "plt.legend()\n",
        "\n",
        "plt.show()"
      ],
      "metadata": {
        "colab": {
          "base_uri": "https://localhost:8080/",
          "height": 279
        },
        "id": "3AZ4pISpZYEo",
        "outputId": "617e7242-cff2-4d6e-ff4e-615ce8dbfb0f"
      },
      "execution_count": 12,
      "outputs": [
        {
          "output_type": "display_data",
          "data": {
            "text/plain": [
              "<Figure size 432x288 with 1 Axes>"
            ],
            "image/png": "[encoded data removed]"
          },
          "metadata": {
            "needs_background": "light"
          }
        }
      ]
    },
    {
      "cell_type": "code",
      "source": [
        "result = model.evaluate(X_test, y_test)\n",
        "print(f\"Loss: {result[0]} - Accuracy: {result[1]}\")"
      ],
      "metadata": {
        "colab": {
          "base_uri": "https://localhost:8080/"
        },
        "id": "TgG6kT1tZ1vq",
        "outputId": "12c0cf56-99ba-4cfb-8efc-9b0da42204aa"
      },
      "execution_count": 13,
      "outputs": [
        {
          "output_type": "stream",
          "name": "stdout",
          "text": [
            "55/55 [==============================] - 1s 25ms/step - loss: 0.6343 - accuracy: 0.8140\n",
            "Loss: 0.6343299150466919 - Accuracy: 0.8139668107032776\n"
          ]
        }
      ]
    },
    {
      "cell_type": "code",
      "source": [
        "prediction_result = model.predict(X_test[789].reshape(1,32,32,3))\n",
        "predicted_class= prediction_result.argmax()\n",
        "predicted_probability = prediction_result.max()\n",
        "print(f\"This image belongs to class {predicted_class} with {predicted_probability} probability %\")"
      ],
      "metadata": {
        "colab": {
          "base_uri": "https://localhost:8080/"
        },
        "id": "CP4Ql8YNa6Bz",
        "outputId": "b20d1738-e4c7-462c-bd3e-b696dbe543d9"
      },
      "execution_count": 14,
      "outputs": [
        {
          "output_type": "stream",
          "name": "stdout",
          "text": [
            "This image belongs to class 6 with 0.9999947547912598 probability %\n"
          ]
        }
      ]
    }
  ]
}